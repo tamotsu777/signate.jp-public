{
 "cells": [
  {
   "cell_type": "code",
   "execution_count": 1,
   "metadata": {},
   "outputs": [],
   "source": [
    "# データフレーム用クラスをインポート\n",
    "import pandas as pd\n",
    "\n",
    "# 描画用ライブラリをインポート\n",
    "import matplotlib.pyplot as plt\n",
    "import seaborn as sns\n",
    "\n",
    "# numpy のデータが扱えるよう、numpy をインポート\n",
    "import numpy as np\n",
    "\n",
    "# サンプル分割用の関数をインポート\n",
    "from sklearn.model_selection import train_test_split\n",
    "\n",
    "# データの標準化を行うためのモジュールをインポート\n",
    "from sklearn.preprocessing import StandardScaler\n",
    "\n",
    "# 勾配ブースティング決定木を行うためのモジュールをインポート\n",
    "from sklearn.ensemble import GradientBoostingClassifier\n",
    "\n",
    "# ランダムフォレストを行うためのモジュールをインポート\n",
    "from sklearn.ensemble import RandomForestClassifier\n",
    "\n",
    "# 決定木構築用クラスをインポート\n",
    "from sklearn.tree import DecisionTreeClassifier\n",
    "\n",
    "# 線形回帰を行うためのモジュールをインポート\n",
    "#from sklearn.linear_model import LinearRegression\n",
    "\n",
    "# ロジスティック回帰を行うためのモジュールをインポート\n",
    "#from sklearn.svm import SVC\n",
    "\n",
    "# 決定木可視化用モジュール群をインポート\n",
    "from sklearn.tree import export_graphviz\n",
    "from graphviz import Source\n",
    "\n",
    "# 正解率を作成するためのモジュールをインポート\n",
    "from sklearn.metrics import accuracy_score\n",
    "\n",
    "# 混合行列を作成するためのモジュールをインポート\n",
    "from sklearn.metrics import confusion_matrix\n",
    "\n",
    "# 【追加！】アンダーサンプリングを行うためのモジュールをインポート\n",
    "from imblearn.under_sampling import RandomUnderSampler\n",
    "\n",
    "# 【追加！】カテゴリ変数をOneHotベクトル化するためのモジュールをインポート\n",
    "from sklearn.preprocessing import LabelEncoder\n",
    "from sklearn.preprocessing import OneHotEncoder\n",
    "\n",
    "# 【追加！】ROCを作成するためのモジュールをインポート\n",
    "from sklearn.metrics import roc_curve\n",
    "from sklearn.metrics import auc"
   ]
  },
  {
   "cell_type": "code",
   "execution_count": 2,
   "metadata": {},
   "outputs": [],
   "source": [
    "# CSVデータを読み込む\n",
    "# 学習用データ（train.tsv)、評価用データ（test.tsv）\n",
    "trainData = pd.read_csv(\"C:/Users/tamot/OneDrive/デスクトップ/SIGNATE/102_titanic/train.tsv\", delimiter='\\t')\n",
    "testData = pd.read_csv(\"C:/Users/tamot/OneDrive/デスクトップ/SIGNATE/102_titanic/test.tsv\", delimiter='\\t')"
   ]
  },
  {
   "cell_type": "code",
   "execution_count": 3,
   "metadata": {},
   "outputs": [
    {
     "data": {
      "text/html": [
       "<div>\n",
       "<style scoped>\n",
       "    .dataframe tbody tr th:only-of-type {\n",
       "        vertical-align: middle;\n",
       "    }\n",
       "\n",
       "    .dataframe tbody tr th {\n",
       "        vertical-align: top;\n",
       "    }\n",
       "\n",
       "    .dataframe thead th {\n",
       "        text-align: right;\n",
       "    }\n",
       "</style>\n",
       "<table border=\"1\" class=\"dataframe\">\n",
       "  <thead>\n",
       "    <tr style=\"text-align: right;\">\n",
       "      <th></th>\n",
       "      <th>id</th>\n",
       "      <th>survived</th>\n",
       "      <th>pclass</th>\n",
       "      <th>age</th>\n",
       "      <th>sibsp</th>\n",
       "      <th>parch</th>\n",
       "      <th>fare</th>\n",
       "    </tr>\n",
       "  </thead>\n",
       "  <tbody>\n",
       "    <tr>\n",
       "      <th>count</th>\n",
       "      <td>445.000000</td>\n",
       "      <td>445.000000</td>\n",
       "      <td>445.000000</td>\n",
       "      <td>360.000000</td>\n",
       "      <td>445.000000</td>\n",
       "      <td>445.000000</td>\n",
       "      <td>445.000000</td>\n",
       "    </tr>\n",
       "    <tr>\n",
       "      <th>mean</th>\n",
       "      <td>456.002247</td>\n",
       "      <td>0.402247</td>\n",
       "      <td>2.296629</td>\n",
       "      <td>29.211583</td>\n",
       "      <td>0.546067</td>\n",
       "      <td>0.431461</td>\n",
       "      <td>33.959971</td>\n",
       "    </tr>\n",
       "    <tr>\n",
       "      <th>std</th>\n",
       "      <td>256.703351</td>\n",
       "      <td>0.490903</td>\n",
       "      <td>0.834024</td>\n",
       "      <td>14.154300</td>\n",
       "      <td>1.195247</td>\n",
       "      <td>0.850489</td>\n",
       "      <td>52.079492</td>\n",
       "    </tr>\n",
       "    <tr>\n",
       "      <th>min</th>\n",
       "      <td>3.000000</td>\n",
       "      <td>0.000000</td>\n",
       "      <td>1.000000</td>\n",
       "      <td>0.670000</td>\n",
       "      <td>0.000000</td>\n",
       "      <td>0.000000</td>\n",
       "      <td>0.000000</td>\n",
       "    </tr>\n",
       "    <tr>\n",
       "      <th>25%</th>\n",
       "      <td>227.000000</td>\n",
       "      <td>0.000000</td>\n",
       "      <td>2.000000</td>\n",
       "      <td>20.000000</td>\n",
       "      <td>0.000000</td>\n",
       "      <td>0.000000</td>\n",
       "      <td>7.925000</td>\n",
       "    </tr>\n",
       "    <tr>\n",
       "      <th>50%</th>\n",
       "      <td>463.000000</td>\n",
       "      <td>0.000000</td>\n",
       "      <td>3.000000</td>\n",
       "      <td>28.000000</td>\n",
       "      <td>0.000000</td>\n",
       "      <td>0.000000</td>\n",
       "      <td>15.000000</td>\n",
       "    </tr>\n",
       "    <tr>\n",
       "      <th>75%</th>\n",
       "      <td>679.000000</td>\n",
       "      <td>1.000000</td>\n",
       "      <td>3.000000</td>\n",
       "      <td>37.250000</td>\n",
       "      <td>1.000000</td>\n",
       "      <td>1.000000</td>\n",
       "      <td>31.387500</td>\n",
       "    </tr>\n",
       "    <tr>\n",
       "      <th>max</th>\n",
       "      <td>888.000000</td>\n",
       "      <td>1.000000</td>\n",
       "      <td>3.000000</td>\n",
       "      <td>80.000000</td>\n",
       "      <td>8.000000</td>\n",
       "      <td>5.000000</td>\n",
       "      <td>512.329200</td>\n",
       "    </tr>\n",
       "  </tbody>\n",
       "</table>\n",
       "</div>"
      ],
      "text/plain": [
       "               id    survived      pclass         age       sibsp       parch  \\\n",
       "count  445.000000  445.000000  445.000000  360.000000  445.000000  445.000000   \n",
       "mean   456.002247    0.402247    2.296629   29.211583    0.546067    0.431461   \n",
       "std    256.703351    0.490903    0.834024   14.154300    1.195247    0.850489   \n",
       "min      3.000000    0.000000    1.000000    0.670000    0.000000    0.000000   \n",
       "25%    227.000000    0.000000    2.000000   20.000000    0.000000    0.000000   \n",
       "50%    463.000000    0.000000    3.000000   28.000000    0.000000    0.000000   \n",
       "75%    679.000000    1.000000    3.000000   37.250000    1.000000    1.000000   \n",
       "max    888.000000    1.000000    3.000000   80.000000    8.000000    5.000000   \n",
       "\n",
       "             fare  \n",
       "count  445.000000  \n",
       "mean    33.959971  \n",
       "std     52.079492  \n",
       "min      0.000000  \n",
       "25%      7.925000  \n",
       "50%     15.000000  \n",
       "75%     31.387500  \n",
       "max    512.329200  "
      ]
     },
     "execution_count": 3,
     "metadata": {},
     "output_type": "execute_result"
    }
   ],
   "source": [
    "# 概要を把握\n",
    "trainData.describe()"
   ]
  },
  {
   "cell_type": "code",
   "execution_count": 4,
   "metadata": {},
   "outputs": [
    {
     "data": {
      "text/plain": [
       "<matplotlib.axes._subplots.AxesSubplot at 0x1fa665deda0>"
      ]
     },
     "execution_count": 4,
     "metadata": {},
     "output_type": "execute_result"
    },
    {
     "data": {
      "image/png": "[encoded data removed]",
      "text/plain": [
       "<Figure size 432x288 with 1 Axes>"
      ]
     },
     "metadata": {
      "needs_background": "light"
     },
     "output_type": "display_data"
    }
   ],
   "source": [
    "# 目的変数の分布状況を把握\n",
    "sns.countplot(x='survived', data=trainData)"
   ]
  },
  {
   "cell_type": "code",
   "execution_count": 5,
   "metadata": {},
   "outputs": [
    {
     "data": {
      "text/plain": [
       "<matplotlib.axes._subplots.AxesSubplot at 0x1fa669056d8>"
      ]
     },
     "execution_count": 5,
     "metadata": {},
     "output_type": "execute_result"
    },
    {
     "data": {
      "image/png": "[encoded data removed]",
      "text/plain": [
       "<Figure size 432x288 with 1 Axes>"
      ]
     },
     "metadata": {
      "needs_background": "light"
     },
     "output_type": "display_data"
    }
   ],
   "source": [
    "# 説明変数の分布状況を把握\n",
    "sns.countplot(x='pclass', data=trainData)"
   ]
  },
  {
   "cell_type": "code",
   "execution_count": 6,
   "metadata": {},
   "outputs": [
    {
     "data": {
      "text/plain": [
       "<matplotlib.axes._subplots.AxesSubplot at 0x1fa6696f2e8>"
      ]
     },
     "execution_count": 6,
     "metadata": {},
     "output_type": "execute_result"
    },
    {
     "data": {
      "image/png": "[encoded data removed]",
      "text/plain": [
       "<Figure size 432x288 with 1 Axes>"
      ]
     },
     "metadata": {
      "needs_background": "light"
     },
     "output_type": "display_data"
    }
   ],
   "source": [
    "# 欠損値の穴埋め\n",
    "# 0埋め\n",
    "trainData[\"age\"].fillna(-99, inplace=True)\n",
    "\n",
    "# 説明変数の分布状況を把握\n",
    "sns.distplot(trainData[\"age\"])"
   ]
  },
  {
   "cell_type": "code",
   "execution_count": 7,
   "metadata": {},
   "outputs": [
    {
     "data": {
      "text/plain": [
       "<matplotlib.axes._subplots.AxesSubplot at 0x1fa66a1e080>"
      ]
     },
     "execution_count": 7,
     "metadata": {},
     "output_type": "execute_result"
    },
    {
     "data": {
      "image/png": "[encoded data removed]",
      "text/plain": [
       "<Figure size 432x288 with 1 Axes>"
      ]
     },
     "metadata": {
      "needs_background": "light"
     },
     "output_type": "display_data"
    }
   ],
   "source": [
    "# 説明変数の分布状況を把握\n",
    "sns.countplot(x='sibsp', data=trainData)"
   ]
  },
  {
   "cell_type": "code",
   "execution_count": 8,
   "metadata": {},
   "outputs": [
    {
     "data": {
      "text/plain": [
       "<matplotlib.axes._subplots.AxesSubplot at 0x1fa66a5b710>"
      ]
     },
     "execution_count": 8,
     "metadata": {},
     "output_type": "execute_result"
    },
    {
     "data": {
      "image/png": "[encoded data removed]",
      "text/plain": [
       "<Figure size 432x288 with 1 Axes>"
      ]
     },
     "metadata": {
      "needs_background": "light"
     },
     "output_type": "display_data"
    }
   ],
   "source": [
    "# 説明変数の分布状況を把握\n",
    "sns.countplot(x='parch', data=trainData)"
   ]
  },
  {
   "cell_type": "code",
   "execution_count": 9,
   "metadata": {},
   "outputs": [
    {
     "data": {
      "text/plain": [
       "<matplotlib.axes._subplots.AxesSubplot at 0x1fa66b00b00>"
      ]
     },
     "execution_count": 9,
     "metadata": {},
     "output_type": "execute_result"
    },
    {
     "data": {
      "image/png": "[encoded data removed]",
      "text/plain": [
       "<Figure size 432x288 with 1 Axes>"
      ]
     },
     "metadata": {
      "needs_background": "light"
     },
     "output_type": "display_data"
    }
   ],
   "source": [
    "# 説明変数の分布状況を把握\n",
    "sns.distplot(trainData[\"fare\"])"
   ]
  },
  {
   "cell_type": "code",
   "execution_count": 10,
   "metadata": {},
   "outputs": [
    {
     "data": {
      "text/html": [
       "<div>\n",
       "<style scoped>\n",
       "    .dataframe tbody tr th:only-of-type {\n",
       "        vertical-align: middle;\n",
       "    }\n",
       "\n",
       "    .dataframe tbody tr th {\n",
       "        vertical-align: top;\n",
       "    }\n",
       "\n",
       "    .dataframe thead th {\n",
       "        text-align: right;\n",
       "    }\n",
       "</style>\n",
       "<table border=\"1\" class=\"dataframe\">\n",
       "  <thead>\n",
       "    <tr style=\"text-align: right;\">\n",
       "      <th></th>\n",
       "      <th>id</th>\n",
       "      <th>pclass</th>\n",
       "      <th>age</th>\n",
       "      <th>sibsp</th>\n",
       "      <th>parch</th>\n",
       "      <th>fare</th>\n",
       "    </tr>\n",
       "  </thead>\n",
       "  <tbody>\n",
       "    <tr>\n",
       "      <th>count</th>\n",
       "      <td>446.000000</td>\n",
       "      <td>446.000000</td>\n",
       "      <td>354.000000</td>\n",
       "      <td>446.000000</td>\n",
       "      <td>446.000000</td>\n",
       "      <td>446.000000</td>\n",
       "    </tr>\n",
       "    <tr>\n",
       "      <th>mean</th>\n",
       "      <td>434.022422</td>\n",
       "      <td>2.320628</td>\n",
       "      <td>30.194915</td>\n",
       "      <td>0.500000</td>\n",
       "      <td>0.331839</td>\n",
       "      <td>30.452381</td>\n",
       "    </tr>\n",
       "    <tr>\n",
       "      <th>std</th>\n",
       "      <td>257.820954</td>\n",
       "      <td>0.838873</td>\n",
       "      <td>14.899140</td>\n",
       "      <td>1.002805</td>\n",
       "      <td>0.756823</td>\n",
       "      <td>47.186192</td>\n",
       "    </tr>\n",
       "    <tr>\n",
       "      <th>min</th>\n",
       "      <td>0.000000</td>\n",
       "      <td>1.000000</td>\n",
       "      <td>0.420000</td>\n",
       "      <td>0.000000</td>\n",
       "      <td>0.000000</td>\n",
       "      <td>0.000000</td>\n",
       "    </tr>\n",
       "    <tr>\n",
       "      <th>25%</th>\n",
       "      <td>215.750000</td>\n",
       "      <td>2.000000</td>\n",
       "      <td>21.000000</td>\n",
       "      <td>0.000000</td>\n",
       "      <td>0.000000</td>\n",
       "      <td>7.895800</td>\n",
       "    </tr>\n",
       "    <tr>\n",
       "      <th>50%</th>\n",
       "      <td>424.500000</td>\n",
       "      <td>3.000000</td>\n",
       "      <td>28.250000</td>\n",
       "      <td>0.000000</td>\n",
       "      <td>0.000000</td>\n",
       "      <td>13.500000</td>\n",
       "    </tr>\n",
       "    <tr>\n",
       "      <th>75%</th>\n",
       "      <td>653.750000</td>\n",
       "      <td>3.000000</td>\n",
       "      <td>39.000000</td>\n",
       "      <td>1.000000</td>\n",
       "      <td>0.000000</td>\n",
       "      <td>30.000000</td>\n",
       "    </tr>\n",
       "    <tr>\n",
       "      <th>max</th>\n",
       "      <td>890.000000</td>\n",
       "      <td>3.000000</td>\n",
       "      <td>74.000000</td>\n",
       "      <td>8.000000</td>\n",
       "      <td>6.000000</td>\n",
       "      <td>512.329200</td>\n",
       "    </tr>\n",
       "  </tbody>\n",
       "</table>\n",
       "</div>"
      ],
      "text/plain": [
       "               id      pclass         age       sibsp       parch        fare\n",
       "count  446.000000  446.000000  354.000000  446.000000  446.000000  446.000000\n",
       "mean   434.022422    2.320628   30.194915    0.500000    0.331839   30.452381\n",
       "std    257.820954    0.838873   14.899140    1.002805    0.756823   47.186192\n",
       "min      0.000000    1.000000    0.420000    0.000000    0.000000    0.000000\n",
       "25%    215.750000    2.000000   21.000000    0.000000    0.000000    7.895800\n",
       "50%    424.500000    3.000000   28.250000    0.000000    0.000000   13.500000\n",
       "75%    653.750000    3.000000   39.000000    1.000000    0.000000   30.000000\n",
       "max    890.000000    3.000000   74.000000    8.000000    6.000000  512.329200"
      ]
     },
     "execution_count": 10,
     "metadata": {},
     "output_type": "execute_result"
    }
   ],
   "source": [
    "# 概要を把握\n",
    "testData.describe()"
   ]
  },
  {
   "cell_type": "code",
   "execution_count": 11,
   "metadata": {},
   "outputs": [
    {
     "data": {
      "text/html": [
       "<div>\n",
       "<style scoped>\n",
       "    .dataframe tbody tr th:only-of-type {\n",
       "        vertical-align: middle;\n",
       "    }\n",
       "\n",
       "    .dataframe tbody tr th {\n",
       "        vertical-align: top;\n",
       "    }\n",
       "\n",
       "    .dataframe thead th {\n",
       "        text-align: right;\n",
       "    }\n",
       "</style>\n",
       "<table border=\"1\" class=\"dataframe\">\n",
       "  <thead>\n",
       "    <tr style=\"text-align: right;\">\n",
       "      <th></th>\n",
       "      <th>id</th>\n",
       "      <th>survived</th>\n",
       "      <th>pclass</th>\n",
       "      <th>sex</th>\n",
       "      <th>age</th>\n",
       "      <th>sibsp</th>\n",
       "      <th>parch</th>\n",
       "      <th>fare</th>\n",
       "      <th>embarked</th>\n",
       "      <th>sex_val</th>\n",
       "      <th>pclass_1</th>\n",
       "      <th>pclass_2</th>\n",
       "      <th>pclass_3</th>\n",
       "    </tr>\n",
       "  </thead>\n",
       "  <tbody>\n",
       "    <tr>\n",
       "      <th>0</th>\n",
       "      <td>3</td>\n",
       "      <td>1</td>\n",
       "      <td>1</td>\n",
       "      <td>female</td>\n",
       "      <td>35.0</td>\n",
       "      <td>1</td>\n",
       "      <td>0</td>\n",
       "      <td>53.1000</td>\n",
       "      <td>S</td>\n",
       "      <td>0</td>\n",
       "      <td>1</td>\n",
       "      <td>0</td>\n",
       "      <td>0</td>\n",
       "    </tr>\n",
       "    <tr>\n",
       "      <th>1</th>\n",
       "      <td>4</td>\n",
       "      <td>0</td>\n",
       "      <td>3</td>\n",
       "      <td>male</td>\n",
       "      <td>35.0</td>\n",
       "      <td>0</td>\n",
       "      <td>0</td>\n",
       "      <td>8.0500</td>\n",
       "      <td>S</td>\n",
       "      <td>1</td>\n",
       "      <td>0</td>\n",
       "      <td>0</td>\n",
       "      <td>1</td>\n",
       "    </tr>\n",
       "    <tr>\n",
       "      <th>2</th>\n",
       "      <td>7</td>\n",
       "      <td>0</td>\n",
       "      <td>3</td>\n",
       "      <td>male</td>\n",
       "      <td>2.0</td>\n",
       "      <td>3</td>\n",
       "      <td>1</td>\n",
       "      <td>21.0750</td>\n",
       "      <td>S</td>\n",
       "      <td>1</td>\n",
       "      <td>0</td>\n",
       "      <td>0</td>\n",
       "      <td>1</td>\n",
       "    </tr>\n",
       "    <tr>\n",
       "      <th>3</th>\n",
       "      <td>9</td>\n",
       "      <td>1</td>\n",
       "      <td>2</td>\n",
       "      <td>female</td>\n",
       "      <td>14.0</td>\n",
       "      <td>1</td>\n",
       "      <td>0</td>\n",
       "      <td>30.0708</td>\n",
       "      <td>C</td>\n",
       "      <td>0</td>\n",
       "      <td>0</td>\n",
       "      <td>1</td>\n",
       "      <td>0</td>\n",
       "    </tr>\n",
       "    <tr>\n",
       "      <th>4</th>\n",
       "      <td>11</td>\n",
       "      <td>1</td>\n",
       "      <td>1</td>\n",
       "      <td>female</td>\n",
       "      <td>58.0</td>\n",
       "      <td>0</td>\n",
       "      <td>0</td>\n",
       "      <td>26.5500</td>\n",
       "      <td>S</td>\n",
       "      <td>0</td>\n",
       "      <td>1</td>\n",
       "      <td>0</td>\n",
       "      <td>0</td>\n",
       "    </tr>\n",
       "  </tbody>\n",
       "</table>\n",
       "</div>"
      ],
      "text/plain": [
       "   id  survived  pclass     sex   age  sibsp  parch     fare embarked  \\\n",
       "0   3         1       1  female  35.0      1      0  53.1000        S   \n",
       "1   4         0       3    male  35.0      0      0   8.0500        S   \n",
       "2   7         0       3    male   2.0      3      1  21.0750        S   \n",
       "3   9         1       2  female  14.0      1      0  30.0708        C   \n",
       "4  11         1       1  female  58.0      0      0  26.5500        S   \n",
       "\n",
       "   sex_val  pclass_1  pclass_2  pclass_3  \n",
       "0        0         1         0         0  \n",
       "1        1         0         0         1  \n",
       "2        1         0         0         1  \n",
       "3        0         0         1         0  \n",
       "4        0         1         0         0  "
      ]
     },
     "execution_count": 11,
     "metadata": {},
     "output_type": "execute_result"
    }
   ],
   "source": [
    "# 説明変数の値を加工\n",
    "trainData[\"sex_val\"] = trainData.apply(lambda x: 1 if x[\"sex\"] == \"male\" else  0, axis=1)\n",
    "trainData[\"pclass_1\"] = trainData.apply(lambda x: 1 if x[\"pclass\"] == 1 else 0, axis=1)\n",
    "trainData[\"pclass_2\"] = trainData.apply(lambda x: 1 if x[\"pclass\"] == 2 else 0, axis=1)\n",
    "trainData[\"pclass_3\"] = trainData.apply(lambda x: 1 if x[\"pclass\"] == 3 else 0, axis=1)\n",
    "trainData.head()"
   ]
  },
  {
   "cell_type": "code",
   "execution_count": 12,
   "metadata": {},
   "outputs": [
    {
     "data": {
      "text/html": [
       "<div>\n",
       "<style scoped>\n",
       "    .dataframe tbody tr th:only-of-type {\n",
       "        vertical-align: middle;\n",
       "    }\n",
       "\n",
       "    .dataframe tbody tr th {\n",
       "        vertical-align: top;\n",
       "    }\n",
       "\n",
       "    .dataframe thead th {\n",
       "        text-align: right;\n",
       "    }\n",
       "</style>\n",
       "<table border=\"1\" class=\"dataframe\">\n",
       "  <thead>\n",
       "    <tr style=\"text-align: right;\">\n",
       "      <th></th>\n",
       "      <th>id</th>\n",
       "      <th>survived</th>\n",
       "      <th>pclass</th>\n",
       "      <th>sex</th>\n",
       "      <th>age</th>\n",
       "      <th>sibsp</th>\n",
       "      <th>parch</th>\n",
       "      <th>fare</th>\n",
       "      <th>embarked</th>\n",
       "      <th>sex_val</th>\n",
       "      <th>pclass_1</th>\n",
       "      <th>pclass_2</th>\n",
       "      <th>pclass_3</th>\n",
       "      <th>embarked_val</th>\n",
       "      <th>embarked_S</th>\n",
       "      <th>embarked_C</th>\n",
       "      <th>embarked_Q</th>\n",
       "    </tr>\n",
       "  </thead>\n",
       "  <tbody>\n",
       "    <tr>\n",
       "      <th>0</th>\n",
       "      <td>3</td>\n",
       "      <td>1</td>\n",
       "      <td>1</td>\n",
       "      <td>female</td>\n",
       "      <td>35.0</td>\n",
       "      <td>1</td>\n",
       "      <td>0</td>\n",
       "      <td>53.1000</td>\n",
       "      <td>S</td>\n",
       "      <td>0</td>\n",
       "      <td>1</td>\n",
       "      <td>0</td>\n",
       "      <td>0</td>\n",
       "      <td>0</td>\n",
       "      <td>1</td>\n",
       "      <td>0</td>\n",
       "      <td>0</td>\n",
       "    </tr>\n",
       "    <tr>\n",
       "      <th>1</th>\n",
       "      <td>4</td>\n",
       "      <td>0</td>\n",
       "      <td>3</td>\n",
       "      <td>male</td>\n",
       "      <td>35.0</td>\n",
       "      <td>0</td>\n",
       "      <td>0</td>\n",
       "      <td>8.0500</td>\n",
       "      <td>S</td>\n",
       "      <td>1</td>\n",
       "      <td>0</td>\n",
       "      <td>0</td>\n",
       "      <td>1</td>\n",
       "      <td>0</td>\n",
       "      <td>1</td>\n",
       "      <td>0</td>\n",
       "      <td>0</td>\n",
       "    </tr>\n",
       "    <tr>\n",
       "      <th>2</th>\n",
       "      <td>7</td>\n",
       "      <td>0</td>\n",
       "      <td>3</td>\n",
       "      <td>male</td>\n",
       "      <td>2.0</td>\n",
       "      <td>3</td>\n",
       "      <td>1</td>\n",
       "      <td>21.0750</td>\n",
       "      <td>S</td>\n",
       "      <td>1</td>\n",
       "      <td>0</td>\n",
       "      <td>0</td>\n",
       "      <td>1</td>\n",
       "      <td>0</td>\n",
       "      <td>1</td>\n",
       "      <td>0</td>\n",
       "      <td>0</td>\n",
       "    </tr>\n",
       "    <tr>\n",
       "      <th>3</th>\n",
       "      <td>9</td>\n",
       "      <td>1</td>\n",
       "      <td>2</td>\n",
       "      <td>female</td>\n",
       "      <td>14.0</td>\n",
       "      <td>1</td>\n",
       "      <td>0</td>\n",
       "      <td>30.0708</td>\n",
       "      <td>C</td>\n",
       "      <td>0</td>\n",
       "      <td>0</td>\n",
       "      <td>1</td>\n",
       "      <td>0</td>\n",
       "      <td>1</td>\n",
       "      <td>0</td>\n",
       "      <td>1</td>\n",
       "      <td>0</td>\n",
       "    </tr>\n",
       "    <tr>\n",
       "      <th>4</th>\n",
       "      <td>11</td>\n",
       "      <td>1</td>\n",
       "      <td>1</td>\n",
       "      <td>female</td>\n",
       "      <td>58.0</td>\n",
       "      <td>0</td>\n",
       "      <td>0</td>\n",
       "      <td>26.5500</td>\n",
       "      <td>S</td>\n",
       "      <td>0</td>\n",
       "      <td>1</td>\n",
       "      <td>0</td>\n",
       "      <td>0</td>\n",
       "      <td>0</td>\n",
       "      <td>1</td>\n",
       "      <td>0</td>\n",
       "      <td>0</td>\n",
       "    </tr>\n",
       "  </tbody>\n",
       "</table>\n",
       "</div>"
      ],
      "text/plain": [
       "   id  survived  pclass     sex   age  sibsp  parch     fare embarked  \\\n",
       "0   3         1       1  female  35.0      1      0  53.1000        S   \n",
       "1   4         0       3    male  35.0      0      0   8.0500        S   \n",
       "2   7         0       3    male   2.0      3      1  21.0750        S   \n",
       "3   9         1       2  female  14.0      1      0  30.0708        C   \n",
       "4  11         1       1  female  58.0      0      0  26.5500        S   \n",
       "\n",
       "   sex_val  pclass_1  pclass_2  pclass_3  embarked_val  embarked_S  \\\n",
       "0        0         1         0         0             0           1   \n",
       "1        1         0         0         1             0           1   \n",
       "2        1         0         0         1             0           1   \n",
       "3        0         0         1         0             1           0   \n",
       "4        0         1         0         0             0           1   \n",
       "\n",
       "   embarked_C  embarked_Q  \n",
       "0           0           0  \n",
       "1           0           0  \n",
       "2           0           0  \n",
       "3           1           0  \n",
       "4           0           0  "
      ]
     },
     "execution_count": 12,
     "metadata": {},
     "output_type": "execute_result"
    }
   ],
   "source": [
    "# 説明変数の値を加工\n",
    "trainData[\"embarked_val\"] = trainData.apply(lambda x: 0 if x[\"embarked\"] == \"S\" else (1 if x[\"embarked\"] == \"C\" else 2), axis=1)\n",
    "trainData[\"embarked_S\"] = trainData.apply(lambda x: 1 if x[\"embarked\"] == \"S\" else 0, axis=1)\n",
    "trainData[\"embarked_C\"] = trainData.apply(lambda x: 1 if x[\"embarked\"] == \"C\" else 0, axis=1)\n",
    "trainData[\"embarked_Q\"] = trainData.apply(lambda x: 1 if x[\"embarked\"] == \"Q\" else 0, axis=1)\n",
    "trainData.head()"
   ]
  },
  {
   "cell_type": "code",
   "execution_count": 13,
   "metadata": {
    "scrolled": true
   },
   "outputs": [
    {
     "name": "stderr",
     "output_type": "stream",
     "text": [
      "C:\\Users\\tamot\\Anaconda3\\lib\\site-packages\\sklearn\\preprocessing\\_encoders.py:415: FutureWarning: The handling of integer data will change in version 0.22. Currently, the categories are determined based on the range [0, max(values)], while in the future they will be determined based on the unique values.\n",
      "If you want the future behaviour and silence this warning, you can specify \"categories='auto'\".\n",
      "In case you used a LabelEncoder before this OneHotEncoder to convert the categories to integers, then you can now use the OneHotEncoder directly.\n",
      "  warnings.warn(msg, FutureWarning)\n"
     ]
    },
    {
     "data": {
      "text/html": [
       "<div>\n",
       "<style scoped>\n",
       "    .dataframe tbody tr th:only-of-type {\n",
       "        vertical-align: middle;\n",
       "    }\n",
       "\n",
       "    .dataframe tbody tr th {\n",
       "        vertical-align: top;\n",
       "    }\n",
       "\n",
       "    .dataframe thead th {\n",
       "        text-align: right;\n",
       "    }\n",
       "</style>\n",
       "<table border=\"1\" class=\"dataframe\">\n",
       "  <thead>\n",
       "    <tr style=\"text-align: right;\">\n",
       "      <th></th>\n",
       "      <th>id</th>\n",
       "      <th>survived</th>\n",
       "      <th>pclass</th>\n",
       "      <th>sex</th>\n",
       "      <th>age</th>\n",
       "      <th>sibsp</th>\n",
       "      <th>parch</th>\n",
       "      <th>fare</th>\n",
       "      <th>embarked</th>\n",
       "      <th>sex_val</th>\n",
       "      <th>...</th>\n",
       "      <th>embarked_val</th>\n",
       "      <th>embarked_S</th>\n",
       "      <th>embarked_C</th>\n",
       "      <th>embarked_Q</th>\n",
       "      <th>parch_0</th>\n",
       "      <th>parch_1</th>\n",
       "      <th>parch_2</th>\n",
       "      <th>parch_3</th>\n",
       "      <th>parch_4</th>\n",
       "      <th>parch_5</th>\n",
       "    </tr>\n",
       "  </thead>\n",
       "  <tbody>\n",
       "    <tr>\n",
       "      <th>0</th>\n",
       "      <td>3</td>\n",
       "      <td>1</td>\n",
       "      <td>1</td>\n",
       "      <td>female</td>\n",
       "      <td>35.0</td>\n",
       "      <td>1</td>\n",
       "      <td>0</td>\n",
       "      <td>53.1000</td>\n",
       "      <td>S</td>\n",
       "      <td>0</td>\n",
       "      <td>...</td>\n",
       "      <td>0</td>\n",
       "      <td>1</td>\n",
       "      <td>0</td>\n",
       "      <td>0</td>\n",
       "      <td>1.0</td>\n",
       "      <td>0.0</td>\n",
       "      <td>0.0</td>\n",
       "      <td>0.0</td>\n",
       "      <td>0.0</td>\n",
       "      <td>0.0</td>\n",
       "    </tr>\n",
       "    <tr>\n",
       "      <th>1</th>\n",
       "      <td>4</td>\n",
       "      <td>0</td>\n",
       "      <td>3</td>\n",
       "      <td>male</td>\n",
       "      <td>35.0</td>\n",
       "      <td>0</td>\n",
       "      <td>0</td>\n",
       "      <td>8.0500</td>\n",
       "      <td>S</td>\n",
       "      <td>1</td>\n",
       "      <td>...</td>\n",
       "      <td>0</td>\n",
       "      <td>1</td>\n",
       "      <td>0</td>\n",
       "      <td>0</td>\n",
       "      <td>1.0</td>\n",
       "      <td>0.0</td>\n",
       "      <td>0.0</td>\n",
       "      <td>0.0</td>\n",
       "      <td>0.0</td>\n",
       "      <td>0.0</td>\n",
       "    </tr>\n",
       "    <tr>\n",
       "      <th>2</th>\n",
       "      <td>7</td>\n",
       "      <td>0</td>\n",
       "      <td>3</td>\n",
       "      <td>male</td>\n",
       "      <td>2.0</td>\n",
       "      <td>3</td>\n",
       "      <td>1</td>\n",
       "      <td>21.0750</td>\n",
       "      <td>S</td>\n",
       "      <td>1</td>\n",
       "      <td>...</td>\n",
       "      <td>0</td>\n",
       "      <td>1</td>\n",
       "      <td>0</td>\n",
       "      <td>0</td>\n",
       "      <td>0.0</td>\n",
       "      <td>1.0</td>\n",
       "      <td>0.0</td>\n",
       "      <td>0.0</td>\n",
       "      <td>0.0</td>\n",
       "      <td>0.0</td>\n",
       "    </tr>\n",
       "    <tr>\n",
       "      <th>3</th>\n",
       "      <td>9</td>\n",
       "      <td>1</td>\n",
       "      <td>2</td>\n",
       "      <td>female</td>\n",
       "      <td>14.0</td>\n",
       "      <td>1</td>\n",
       "      <td>0</td>\n",
       "      <td>30.0708</td>\n",
       "      <td>C</td>\n",
       "      <td>0</td>\n",
       "      <td>...</td>\n",
       "      <td>1</td>\n",
       "      <td>0</td>\n",
       "      <td>1</td>\n",
       "      <td>0</td>\n",
       "      <td>1.0</td>\n",
       "      <td>0.0</td>\n",
       "      <td>0.0</td>\n",
       "      <td>0.0</td>\n",
       "      <td>0.0</td>\n",
       "      <td>0.0</td>\n",
       "    </tr>\n",
       "    <tr>\n",
       "      <th>4</th>\n",
       "      <td>11</td>\n",
       "      <td>1</td>\n",
       "      <td>1</td>\n",
       "      <td>female</td>\n",
       "      <td>58.0</td>\n",
       "      <td>0</td>\n",
       "      <td>0</td>\n",
       "      <td>26.5500</td>\n",
       "      <td>S</td>\n",
       "      <td>0</td>\n",
       "      <td>...</td>\n",
       "      <td>0</td>\n",
       "      <td>1</td>\n",
       "      <td>0</td>\n",
       "      <td>0</td>\n",
       "      <td>1.0</td>\n",
       "      <td>0.0</td>\n",
       "      <td>0.0</td>\n",
       "      <td>0.0</td>\n",
       "      <td>0.0</td>\n",
       "      <td>0.0</td>\n",
       "    </tr>\n",
       "  </tbody>\n",
       "</table>\n",
       "<p>5 rows × 23 columns</p>\n",
       "</div>"
      ],
      "text/plain": [
       "   id  survived  pclass     sex   age  sibsp  parch     fare embarked  \\\n",
       "0   3         1       1  female  35.0      1      0  53.1000        S   \n",
       "1   4         0       3    male  35.0      0      0   8.0500        S   \n",
       "2   7         0       3    male   2.0      3      1  21.0750        S   \n",
       "3   9         1       2  female  14.0      1      0  30.0708        C   \n",
       "4  11         1       1  female  58.0      0      0  26.5500        S   \n",
       "\n",
       "   sex_val  ...  embarked_val  embarked_S  embarked_C  embarked_Q  parch_0  \\\n",
       "0        0  ...             0           1           0           0      1.0   \n",
       "1        1  ...             0           1           0           0      1.0   \n",
       "2        1  ...             0           1           0           0      0.0   \n",
       "3        0  ...             1           0           1           0      1.0   \n",
       "4        0  ...             0           1           0           0      1.0   \n",
       "\n",
       "   parch_1  parch_2  parch_3  parch_4  parch_5  \n",
       "0      0.0      0.0      0.0      0.0      0.0  \n",
       "1      0.0      0.0      0.0      0.0      0.0  \n",
       "2      1.0      0.0      0.0      0.0      0.0  \n",
       "3      0.0      0.0      0.0      0.0      0.0  \n",
       "4      0.0      0.0      0.0      0.0      0.0  \n",
       "\n",
       "[5 rows x 23 columns]"
      ]
     },
     "execution_count": 13,
     "metadata": {},
     "output_type": "execute_result"
    }
   ],
   "source": [
    "# parch からダミー変数を作成する\n",
    "parch_enc = trainData[\"parch\"].values\n",
    "parch_enc = LabelEncoder().fit_transform(parch_enc).reshape(-1,1)\n",
    "parch_enc2 = OneHotEncoder().fit_transform(parch_enc).toarray()\n",
    "trainData[\"parch_0\"] = parch_enc2[:,0]\n",
    "trainData[\"parch_1\"] = parch_enc2[:,1]\n",
    "trainData[\"parch_2\"] = parch_enc2[:,2]\n",
    "trainData[\"parch_3\"] = parch_enc2[:,3]\n",
    "trainData[\"parch_4\"] = parch_enc2[:,4]\n",
    "trainData[\"parch_5\"] = parch_enc2[:,5]\n",
    "trainData.head()"
   ]
  },
  {
   "cell_type": "code",
   "execution_count": 38,
   "metadata": {
    "scrolled": false
   },
   "outputs": [
    {
     "name": "stdout",
     "output_type": "stream",
     "text": [
      "445\n",
      "360\n"
     ]
    }
   ],
   "source": [
    "print(len(trainData))\n",
    "#print(type(trainData[\"age\"]))\n",
    "#print(trainData[\"age\"])\n",
    "targetData = pd.DataFrame()\n",
    "#targetData[trainData.age != -99.0]\n",
    "targetData = trainData\n",
    "targetData.drop(targetData.index[targetData.age == -99.0], inplace=True)\n",
    "print(len(targetData))"
   ]
  },
  {
   "cell_type": "code",
   "execution_count": null,
   "metadata": {},
   "outputs": [],
   "source": [
    "# データを訓練用データ・検証用データに分ける（訓練用：検証用＝5:5）\n",
    "#feature_names=[\"id\",\"pclass\",\"sex_val\",\"sibsp\",\"parch\",\"fare\",\"embarked\",\"age\"]\n",
    "#feature_names=[\"id\",\"pclass\",\"sex_val\",\"sibsp\",\"parch\",\"fare\",\"embarked_val\"]\n",
    "feature_names=[\"survived\", \"pclass_1\",\"pclass_2\",\"pclass_3\",\"sex_val\",\"sibsp\",\"parch_0\",\"parch_1\",\"parch_2\",\"parch_3\",\"parch_4\",\"parch_5\",\"fare\",\"embarked_S\",\"embarked_C\",\"embarked_Q\"]\n",
    "data=trainData[feature_names]\n",
    "target=trainData[\"age\"]\n",
    "(X_train, X_test ,y_train, y_test) = train_test_split(data, target, test_size = 0.5)"
   ]
  },
  {
   "cell_type": "code",
   "execution_count": null,
   "metadata": {},
   "outputs": [],
   "source": [
    "X_train_resampled = X_train\n",
    "y_train_resampled = y_train"
   ]
  },
  {
   "cell_type": "code",
   "execution_count": null,
   "metadata": {},
   "outputs": [],
   "source": [
    "# データを訓練用データ・検証用データに分ける（訓練用：検証用＝5:5）\n",
    "#feature_names=[\"id\",\"pclass\",\"sex_val\",\"sibsp\",\"parch\",\"fare\",\"embarked\",\"age\"]\n",
    "#feature_names=[\"id\",\"pclass\",\"sex_val\",\"sibsp\",\"parch\",\"fare\",\"embarked_val\"]\n",
    "feature_names=[\"pclass_1\",\"pclass_2\",\"pclass_3\",\"sex_val\",\"sibsp\",\"parch_0\",\"parch_1\",\"parch_2\",\"parch_3\",\"parch_4\",\"parch_5\",\"fare\",\"embarked_S\",\"embarked_C\",\"embarked_Q\"]\n",
    "data=trainData[feature_names]\n",
    "target=trainData[\"survived\"]\n",
    "(X_train, X_test ,y_train, y_test) = train_test_split(data, target, test_size = 0.5)"
   ]
  },
  {
   "cell_type": "code",
   "execution_count": null,
   "metadata": {},
   "outputs": [],
   "source": [
    "# アンダーサンプリングを行う\n",
    "\n",
    "# 正例の数を保存\n",
    "#positive_count_train = y_train.sum()\n",
    "\n",
    "# 正例が11.1％になるまで負例をダウンサンプリング\n",
    "#rus = RandomUnderSampler(ratio={0:positive_count_train*8, 1:positive_count_train})\n",
    "# 正例が10％になるまで負例をダウンサンプリング\n",
    "#rus = RandomUnderSampler(ratio={0:positive_count_train*9, 1:positive_count_train})\n",
    "\n",
    "# 学習用データに反映\n",
    "#X_train_resampled, y_train_resampled = rus.fit_sample(X_train, y_train)\n",
    "\n",
    "X_train_resampled = X_train\n",
    "y_train_resampled = y_train"
   ]
  },
  {
   "cell_type": "code",
   "execution_count": null,
   "metadata": {},
   "outputs": [],
   "source": [
    "# 決定木モデルを構築\n",
    "clf = GradientBoostingClassifier(\n",
    "    learning_rate=0.05,\n",
    "    max_depth=10,\n",
    "    max_features='sqrt',\n",
    "    min_samples_leaf=50,\n",
    "    min_samples_split=5, # 総サンプル数の1%\n",
    "    n_estimators=100,\n",
    "    random_state=10,\n",
    "    subsample=0.8,\n",
    ")\n",
    "#clf.fit(X_train, y_train)\n",
    "clf.fit(X_train_resampled, y_train_resampled)"
   ]
  },
  {
   "cell_type": "code",
   "execution_count": null,
   "metadata": {},
   "outputs": [],
   "source": [
    "# 変数の重要度を可視化する\n",
    "\n",
    "values, names = zip(*sorted(zip(clf.feature_importances_, feature_names)))\n",
    "plt.figure(figsize=(12,12))\n",
    "plt.barh(range(len(names)), values, align='center')\n",
    "plt.yticks(range(len(names)), names)"
   ]
  },
  {
   "cell_type": "code",
   "execution_count": null,
   "metadata": {},
   "outputs": [],
   "source": [
    "# 精度検証を行う（訓練用データを確認）\n",
    "print(accuracy_score(y_train, clf.predict(X_train)))\n",
    "conf_mtrx_df = pd.DataFrame(confusion_matrix(y_train,clf.predict(X_train).reshape(-1,1)))\n",
    "conf_mtrx_df.rename(columns={0: 'predict(0)',1: 'predict(1)'}, index={0: 'target(0)',1: 'target(1)'})"
   ]
  },
  {
   "cell_type": "code",
   "execution_count": null,
   "metadata": {},
   "outputs": [],
   "source": [
    "# 精度検証を行う（検証用データを確認）\n",
    "print(accuracy_score(y_test, clf.predict(X_test)))\n",
    "conf_mtrx_df = pd.DataFrame(confusion_matrix(y_test,clf.predict(X_test).reshape(-1,1)))\n",
    "conf_mtrx_df.rename(columns={0: 'predict(0)',1: 'predict(1)'}, index={0: 'target(0)',1: 'target(1)'})"
   ]
  },
  {
   "cell_type": "code",
   "execution_count": null,
   "metadata": {},
   "outputs": [],
   "source": [
    "# 【追加！】精度検証を行う②\n",
    "\n",
    "# 訓練用データについて\n",
    "\n",
    "# FPR、TPR、（閾値）、AUCを算出\n",
    "y_train_predict = clf.predict(X_train)\n",
    "fpr, tpr, thresholds = roc_curve(y_train, y_train_predict)\n",
    "auc_value_train = auc(fpr, tpr)\n",
    "# ROC曲線をプロット\n",
    "plt.plot(fpr, tpr, label='ROC curve (area = %.2f)'%auc_value_train)\n",
    "plt.legend()\n",
    "plt.title('ROC curve')\n",
    "plt.xlabel('False Positive Rate')\n",
    "plt.ylabel('True Positive Rate')\n",
    "plt.grid(True)\n",
    "print(\"AUC(train): \"+str(auc_value_train))\n",
    "\n",
    "# 検証用データについて\n",
    "\n",
    "# FPR、TPR、（閾値）、AUCを算出\n",
    "y_test_predict = clf.predict(X_test)\n",
    "fpr, tpr, thresholds = roc_curve(y_test, y_test_predict)\n",
    "auc_value_test = auc(fpr, tpr)\n",
    "# ROC曲線をプロット\n",
    "plt.plot(fpr, tpr, label='ROC curve (area = %.2f)'%auc_value_test)\n",
    "plt.legend()\n",
    "plt.title('ROC curve')\n",
    "plt.xlabel('False Positive Rate')\n",
    "plt.ylabel('True Positive Rate')\n",
    "plt.grid(True)\n",
    "print(\"AUC(test): \"+str(auc_value_test))\n",
    "print(\"AUC ratio(train/test): \"+str(auc_value_train/auc_value_test))"
   ]
  },
  {
   "cell_type": "code",
   "execution_count": null,
   "metadata": {},
   "outputs": [],
   "source": [
    "# 検証実施\n",
    "# 説明変数の値を加工\n",
    "testData[\"sex_val\"] = testData.apply(lambda x: 1 if x[\"sex\"] == \"male\" else  0, axis=1)\n",
    "testData[\"pclass_1\"] = testData.apply(lambda x: 1 if x[\"pclass\"] == 1 else 0, axis=1)\n",
    "testData[\"pclass_2\"] = testData.apply(lambda x: 1 if x[\"pclass\"] == 2 else 0, axis=1)\n",
    "testData[\"pclass_3\"] = testData.apply(lambda x: 1 if x[\"pclass\"] == 3 else 0, axis=1)\n",
    "testData[\"embarked_val\"] = testData.apply(lambda x: 0 if x[\"embarked\"] == \"S\" else (1 if x[\"embarked\"] == \"C\" else 2), axis=1)\n",
    "testData[\"embarked_S\"] = testData.apply(lambda x: 1 if x[\"embarked\"] == \"S\" else 0, axis=1)\n",
    "testData[\"embarked_C\"] = testData.apply(lambda x: 1 if x[\"embarked\"] == \"C\" else 0, axis=1)\n",
    "testData[\"embarked_Q\"] = testData.apply(lambda x: 1 if x[\"embarked\"] == \"Q\" else 0, axis=1)\n",
    "parch_enc = testData[\"parch\"].values\n",
    "parch_enc = LabelEncoder().fit_transform(parch_enc).reshape(-1,1)\n",
    "parch_enc2 = OneHotEncoder().fit_transform(parch_enc).toarray()\n",
    "testData[\"parch_0\"] = parch_enc2[:,0]\n",
    "testData[\"parch_1\"] = parch_enc2[:,1]\n",
    "testData[\"parch_2\"] = parch_enc2[:,2]\n",
    "testData[\"parch_3\"] = parch_enc2[:,3]\n",
    "testData[\"parch_4\"] = parch_enc2[:,4]\n",
    "testData[\"parch_5\"] = parch_enc2[:,5]\n",
    "testData.head()"
   ]
  },
  {
   "cell_type": "code",
   "execution_count": null,
   "metadata": {},
   "outputs": [],
   "source": [
    "# 検証データからを説明変数データを抽出\n",
    "x_test = testData[[\"pclass_1\",\"pclass_2\",\"pclass_3\",\"sex_val\",\"sibsp\",\"parch_0\",\"parch_1\",\"parch_2\",\"parch_3\",\"parch_4\",\"parch_5\",\"fare\",\"embarked_S\",\"embarked_C\",\"embarked_Q\"]]"
   ]
  },
  {
   "cell_type": "code",
   "execution_count": null,
   "metadata": {},
   "outputs": [],
   "source": [
    "# モデルからを目的変数データを算出\n",
    "y_test = clf.predict(x_test)\n",
    "result = testData[[\"id\"]]\n",
    "result[\"survived\"] = y_test\n",
    "result.head()"
   ]
  },
  {
   "cell_type": "code",
   "execution_count": null,
   "metadata": {},
   "outputs": [],
   "source": [
    "# 結果をTSV出力\n",
    "# export csv\n",
    "result.to_csv(path_or_buf='C:/Users/tamot/OneDrive/デスクトップ/SIGNATE/102_titanic/y_test_20200217.tsv', sep='\\t', header=False, index=False, encoding='utf8')"
   ]
  }
 ],
 "metadata": {
  "kernelspec": {
   "display_name": "Python 3",
   "language": "python",
   "name": "python3"
  },
  "language_info": {
   "codemirror_mode": {
    "name": "ipython",
    "version": 3
   },
   "file_extension": ".py",
   "mimetype": "text/x-python",
   "name": "python",
   "nbconvert_exporter": "python",
   "pygments_lexer": "ipython3",
   "version": "3.7.3"
  }
 },
 "nbformat": 4,
 "nbformat_minor": 2
}
